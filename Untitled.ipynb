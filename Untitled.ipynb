{
 "cells": [
  {
   "cell_type": "code",
   "execution_count": 1,
   "id": "915aa178",
   "metadata": {},
   "outputs": [],
   "source": [
    "import numpy as np\n",
    "import pandas as pd\n",
    "%matplotlib inline\n",
    "import matplotlib.pyplot as plt"
   ]
  },
  {
   "cell_type": "code",
   "execution_count": 2,
   "id": "aff44453",
   "metadata": {},
   "outputs": [],
   "source": [
    "## read data\n",
    "data0_01 = pd.read_csv(r'D:\\kul\\Modern Data Analytics\\2\\assignment\\data\\csv_results_40_255439_mp-01-naamsestraat-35-maxim.csv',sep=';')\n",
    "data0_02 = pd.read_csv(r'D:\\kul\\Modern Data Analytics\\2\\assignment\\data\\csv_results_40_255440_mp-02-naamsestraat-57-xior.csv',sep=';')\n",
    "data0_03 = pd.read_csv(r'D:\\kul\\Modern Data Analytics\\2\\assignment\\data\\csv_results_40_255441_mp-03-naamsestraat-62-taste.csv',sep=';')\n",
    "data0_04 = pd.read_csv(r'D:\\kul\\Modern Data Analytics\\2\\assignment\\data\\csv_results_40_303910_mp-04-his-hears.csv',sep=';')\n",
    "data0_05 = pd.read_csv(r'D:\\kul\\Modern Data Analytics\\2\\assignment\\data\\csv_results_40_255442_mp-05-calvariekapel-ku-leuven.csv',sep=';')\n",
    "data0_06 = pd.read_csv(r'D:\\kul\\Modern Data Analytics\\2\\assignment\\data\\csv_results_40_255443_mp-06-parkstraat-2-la-filosovia.csv',sep=';')\n",
    "data0_07 = pd.read_csv(r'D:\\kul\\Modern Data Analytics\\2\\assignment\\data\\csv_results_40_255444_mp-07-naamsestraat-81.csv',sep=';')\n",
    "data0_08 = pd.read_csv(r'D:\\kul\\Modern Data Analytics\\2\\assignment\\data\\csv_results_40_280324_mp08bis---vrijthof.csv',sep=';')"
   ]
  },
  {
   "cell_type": "code",
   "execution_count": 15,
   "id": "b8cffaa3",
   "metadata": {},
   "outputs": [],
   "source": [
    "data_frames = {'data0_01': data0_01, 'data0_02': data0_02, 'data0_03': data0_03, 'data0_04': data0_04, \n",
    "               'data0_05': data0_05, 'data0_06': data0_06, 'data0_07': data0_07, 'data0_08': data0_08}\n",
    "\n",
    "for df in data_frames.items():\n",
    "    # Convert datetime column to datetime format and create separate date and time columns\n",
    "    df[1]['timestamp'] = pd.to_datetime(df[1]['result_timestamp'], format='%d/%m/%Y %H:%M:%S.%f')\n",
    "    df[1].set_index('timestamp', inplace=True)"
   ]
  },
  {
   "cell_type": "code",
   "execution_count": 16,
   "id": "4921e74d",
   "metadata": {},
   "outputs": [],
   "source": [
    "cols = ['laf005_per_hour', 'laf01_per_hour', 'laf05_per_hour', 'laf10_per_hour',\n",
    "        'laf25_per_hour', 'laf50_per_hour', 'laf75_per_hour', 'laf90_per_hour',\n",
    "        'laf95_per_hour', 'laf98_per_hour', 'laf99_per_hour', 'laf995_per_hour']\n",
    "\n",
    "# Create a new dictionary to store the selected columns from each dataset\n",
    "selected_data_frames = {}\n",
    "\n",
    "for name, data in data_frames.items():\n",
    "    selected_data_frames[name] = data[cols]\n"
   ]
  },
  {
   "cell_type": "code",
   "execution_count": 17,
   "id": "75394843",
   "metadata": {},
   "outputs": [],
   "source": [
    "# Create a new dictionary to store the rolling averages\n",
    "rolling_avg_data_frames = {}\n",
    "\n",
    "for name, data in selected_data_frames.items():\n",
    "    # Apply rolling mean to the selected columns\n",
    "    rolling_avg_data_frames[name] = data.rolling(2).mean()\n"
   ]
  },
  {
   "cell_type": "code",
   "execution_count": null,
   "id": "60522222",
   "metadata": {},
   "outputs": [],
   "source": []
  },
  {
   "cell_type": "code",
   "execution_count": 6,
   "id": "74507181",
   "metadata": {},
   "outputs": [],
   "source": [
    "# Imputation #\n",
    "from sklearn.impute import SimpleImputer, KNNImputer\n",
    "from sklearn.experimental import enable_iterative_imputer\n",
    "from sklearn.impute import IterativeImputer\n",
    "from sklearn.metrics import mean_squared_error, r2_score\n",
    "from math import sqrt\n"
   ]
  },
  {
   "cell_type": "code",
   "execution_count": 18,
   "id": "6e525b31",
   "metadata": {},
   "outputs": [],
   "source": [
    "def impute_and_compare(data, n=200, missing_rate=0.08):\n",
    "\n",
    "    # Select a random subset of rows from the DataFrame\n",
    "    full = data.sample(n=n, random_state=27)\n",
    "\n",
    "    # Insert missingness\n",
    "    n_samples = full.shape[0]\n",
    "    n_features = full.shape[1]\n",
    "    rng = np.random.RandomState(0)\n",
    "    n_missing_samples = int(np.floor(n_samples * n_features * missing_rate))\n",
    "\n",
    "    missing_features = rng.randint(0, n_features, n_missing_samples)\n",
    "    missing_samples = rng.randint(0, n_samples, n_missing_samples)\n",
    "\n",
    "    miss = full.copy()\n",
    "    miss.values[missing_samples, missing_features] = np.nan\n",
    "\n",
    "    # Impute with mean\n",
    "    imputer = SimpleImputer(strategy='mean')\n",
    "    mean = pd.DataFrame(imputer.fit_transform(miss), columns=miss.columns)\n",
    "    mean = np.round(mean)\n",
    "\n",
    "    # KNN imputation\n",
    "    imputer = KNNImputer()\n",
    "    knn = pd.DataFrame(imputer.fit_transform(miss), columns=miss.columns, index=miss.index)\n",
    "    knn = np.round(knn)\n",
    "\n",
    "    # MICE imputation\n",
    "    imputer = IterativeImputer()\n",
    "    mice = pd.DataFrame(imputer.fit_transform(miss), columns=miss.columns, index=miss.index)\n",
    "    mice = np.round(mice)\n",
    "\n",
    "    # Calculate RMSE\n",
    "    rmse_mean = sqrt(mean_squared_error(full, mean))\n",
    "    rmse_knn = sqrt(mean_squared_error(full, knn))\n",
    "    rmse_mice = sqrt(mean_squared_error(full, mice))\n",
    "\n",
    "    # Calculate R2\n",
    "    r2_mean = r2_score(full, mean)\n",
    "    r2_knn = r2_score(full, knn)\n",
    "    r2_mice = r2_score(full, mice)\n",
    "\n",
    "    # Print results\n",
    "    print(\"RMSE for mean imputation:\", rmse_mean)\n",
    "    print(\"RMSE for knn imputation:\", rmse_knn)\n",
    "    print(\"RMSE for MICE imputation:\", rmse_mice)\n",
    "\n",
    "    print(\"r2 for mean imputation:\", r2_mean)\n",
    "    print(\"r2 for knn imputation:\", r2_knn)\n",
    "    print(\"r2 for MICE imputation:\", r2_mice)\n"
   ]
  },
  {
   "cell_type": "code",
   "execution_count": 19,
   "id": "0ef80fbb",
   "metadata": {},
   "outputs": [
    {
     "name": "stdout",
     "output_type": "stream",
     "text": [
      "RMSE for mean imputation: 1.6698705663413942\n",
      "RMSE for knn imputation: 0.45976556526125256\n",
      "RMSE for MICE imputation: 0.3200406875174867\n",
      "r2 for mean imputation: 0.9003983224840885\n",
      "r2 for knn imputation: 0.9921191557758758\n",
      "r2 for MICE imputation: 0.9963363285867421\n",
      "RMSE for mean imputation: 1.3666042922758095\n",
      "RMSE for knn imputation: 0.3998215747888874\n",
      "RMSE for MICE imputation: 0.3014254330123223\n",
      "r2 for mean imputation: 0.9047064071975837\n",
      "r2 for knn imputation: 0.9907863555120916\n",
      "r2 for MICE imputation: 0.9948014165736091\n",
      "RMSE for mean imputation: 1.0580165208224936\n",
      "RMSE for knn imputation: 0.3832196389365588\n",
      "RMSE for MICE imputation: 0.30294216994887496\n",
      "r2 for mean imputation: 0.9008343276079184\n",
      "r2 for knn imputation: 0.9836840567861295\n",
      "r2 for MICE imputation: 0.9883089280548254\n"
     ]
    },
    {
     "name": "stderr",
     "output_type": "stream",
     "text": [
      "D:\\programme\\python\\lib\\site-packages\\sklearn\\impute\\_iterative.py:785: ConvergenceWarning: [IterativeImputer] Early stopping criterion not reached.\n",
      "  warnings.warn(\n",
      "D:\\programme\\python\\lib\\site-packages\\sklearn\\impute\\_iterative.py:785: ConvergenceWarning: [IterativeImputer] Early stopping criterion not reached.\n",
      "  warnings.warn(\n"
     ]
    },
    {
     "name": "stdout",
     "output_type": "stream",
     "text": [
      "RMSE for mean imputation: 0.9729658267380206\n",
      "RMSE for knn imputation: 0.3820940111194269\n",
      "RMSE for MICE imputation: 0.3029645193747933\n",
      "r2 for mean imputation: 0.9399409863503293\n",
      "r2 for knn imputation: 0.9895357160481\n",
      "r2 for MICE imputation: 0.9927896003967612\n",
      "RMSE for mean imputation: 1.492129350961236\n",
      "RMSE for knn imputation: 0.4187680344375231\n",
      "RMSE for MICE imputation: 0.29817500454151574\n",
      "r2 for mean imputation: 0.9099645566438989\n",
      "r2 for knn imputation: 0.990587039800631\n",
      "r2 for MICE imputation: 0.9957105115081153\n"
     ]
    },
    {
     "name": "stderr",
     "output_type": "stream",
     "text": [
      "D:\\programme\\python\\lib\\site-packages\\sklearn\\impute\\_iterative.py:785: ConvergenceWarning: [IterativeImputer] Early stopping criterion not reached.\n",
      "  warnings.warn(\n"
     ]
    },
    {
     "name": "stdout",
     "output_type": "stream",
     "text": [
      "RMSE for mean imputation: 1.7262196775034169\n",
      "RMSE for knn imputation: 0.40244176597366055\n",
      "RMSE for MICE imputation: 0.3133837503764336\n",
      "r2 for mean imputation: 0.9059767235720336\n",
      "r2 for knn imputation: 0.9945444669680418\n",
      "r2 for MICE imputation: 0.9967051937574491\n",
      "RMSE for mean imputation: 1.7146327959653642\n",
      "RMSE for knn imputation: 0.4042057541236466\n",
      "RMSE for MICE imputation: 0.29820120444648207\n",
      "r2 for mean imputation: 0.9248031553331972\n",
      "r2 for knn imputation: 0.9952285932743142\n",
      "r2 for MICE imputation: 0.9973360246448948\n",
      "RMSE for mean imputation: 0.9985917167024103\n",
      "RMSE for knn imputation: 0.40581451017264836\n",
      "RMSE for MICE imputation: 0.3192732633132105\n",
      "r2 for mean imputation: 0.9075484254839957\n",
      "r2 for knn imputation: 0.9840593012664186\n",
      "r2 for MICE imputation: 0.9896206459396232\n"
     ]
    },
    {
     "name": "stderr",
     "output_type": "stream",
     "text": [
      "D:\\programme\\python\\lib\\site-packages\\sklearn\\impute\\_iterative.py:785: ConvergenceWarning: [IterativeImputer] Early stopping criterion not reached.\n",
      "  warnings.warn(\n"
     ]
    }
   ],
   "source": [
    "# Apply the function to each data set in \"rolling_avg_data_frames\"\n",
    "for df in rolling_avg_data_frames.values():\n",
    "    impute_and_compare(df)"
   ]
  },
  {
   "cell_type": "code",
   "execution_count": 22,
   "id": "8c063e42",
   "metadata": {},
   "outputs": [],
   "source": [
    "def impute_data(data, imputer):\n",
    "    # Create a new DataFrame with hourly timestamps\n",
    "    hourly_index = pd.date_range(start=data.index.min(), end=data.index.max(), freq='H')\n",
    "    new_data = pd.DataFrame(index=hourly_index)\n",
    "\n",
    "    # Merge the new DataFrame with the original data\n",
    "    merged_data = pd.merge(data, new_data, left_index=True, right_index=True, how='outer')\n",
    "\n",
    "    # Sort the index of the merged data\n",
    "    merged_data = merged_data.sort_index()\n",
    "\n",
    "    # Drop the timestamp index since it is already included in the merged data\n",
    "    df = merged_data.reset_index(drop=True)\n",
    "    \n",
    "    # Impute missing values\n",
    "    imputed_data = pd.DataFrame(imputer.fit_transform(df), columns=df.columns)\n",
    "\n",
    "    # Set the index back to the original timestamp\n",
    "    imputed_data.index = merged_data.index\n",
    "    \n",
    "    return imputed_data\n"
   ]
  },
  {
   "cell_type": "code",
   "execution_count": 23,
   "id": "c63ae972",
   "metadata": {},
   "outputs": [],
   "source": [
    "imputer = IterativeImputer() \n",
    "imputed_data_frames = {}\n",
    "\n",
    "for name, data in rolling_avg_data_frames.items():\n",
    "    imputed_data_frames[name] = impute_data(data, imputer)\n"
   ]
  },
  {
   "cell_type": "code",
   "execution_count": 27,
   "id": "038e41d7",
   "metadata": {},
   "outputs": [],
   "source": [
    "# Create a new DataFrame with hourly timestamps\n",
    "import datetime\n",
    "\n",
    "hourly_index = pd.date_range(start=datetime.datetime(2022, 2, 1, 0, 0, 0), end=imputed_data_frames['data0_03'].index.max(), freq='H')\n",
    "new_data = pd.DataFrame(index=hourly_index)\n",
    "\n",
    "# Merge the new DataFrame with the original data\n",
    "merged_data = pd.merge(imputed_data_frames['data0_03'], new_data, left_index=True, right_index=True, how='outer')\n",
    "\n",
    "# Sort the DataFrame by the index (timestamp)\n",
    "merged_data = merged_data.sort_index()\n",
    "\n",
    "imputed_data_frames['data0_03'] = merged_data.fillna(merged_data.mean())\n"
   ]
  },
  {
   "cell_type": "code",
   "execution_count": null,
   "id": "ade58107",
   "metadata": {},
   "outputs": [],
   "source": []
  },
  {
   "cell_type": "code",
   "execution_count": 34,
   "id": "b55f8066",
   "metadata": {},
   "outputs": [],
   "source": [
    "from sklearn.preprocessing import MinMaxScaler\n",
    "\n",
    "scaled_data_frames = {}\n",
    "\n",
    "scaler = MinMaxScaler()\n",
    "for name, data in imputed_data_frames.items():\n",
    "    \n",
    "    # Scale \n",
    "    scaled_data = pd.DataFrame(scaler.fit_transform(data), columns=data.columns, index=data.index)\n",
    "    \n",
    "    scaled_data_frames[name] = scaled_data\n"
   ]
  },
  {
   "cell_type": "code",
   "execution_count": null,
   "id": "b4048e38",
   "metadata": {},
   "outputs": [],
   "source": []
  },
  {
   "cell_type": "code",
   "execution_count": 36,
   "id": "90f011a7",
   "metadata": {},
   "outputs": [],
   "source": [
    "scaled_data_frames['data0_01']['latitude'] = 50.87714219999999\n",
    "scaled_data_frames['data0_01']['longitude'] = 4.7007241\n",
    "\n",
    "scaled_data_frames['data0_02']['latitude'] = 50.8764906\n",
    "scaled_data_frames['data0_02']['longitude'] = 4.7007131\n",
    "\n",
    "scaled_data_frames['data0_03']['latitude'] = 50.8758438\n",
    "scaled_data_frames['data0_03']['longitude'] = 4.7002029\n",
    "\n",
    "scaled_data_frames['data0_04']['latitude'] = 50.8752661\n",
    "scaled_data_frames['data0_04']['longitude'] = 4.700002899999999\n",
    "\n",
    "scaled_data_frames['data0_05']['latitude'] = 50.8745072\n",
    "scaled_data_frames['data0_05']['longitude'] = 4.6999111\n",
    "\n",
    "scaled_data_frames['data0_06']['latitude'] = 50.8741177\n",
    "scaled_data_frames['data0_06']['longitude'] = 4.7000138\n",
    "\n",
    "scaled_data_frames['data0_07']['latitude'] = 50.873825\n",
    "scaled_data_frames['data0_07']['longitude'] = 4.7001178\n",
    "\n",
    "scaled_data_frames['data0_08']['latitude'] = 50.8789058\n",
    "scaled_data_frames['data0_08']['longitude'] = 4.701187399999999\n"
   ]
  },
  {
   "cell_type": "code",
   "execution_count": 41,
   "id": "7a51f05a",
   "metadata": {},
   "outputs": [],
   "source": [
    "for name, data in scaled_data_frames.items():\n",
    "    data.reset_index(inplace=True)\n",
    "    data.rename(columns={'index': 'timestamp'}, inplace=True)\n"
   ]
  },
  {
   "cell_type": "code",
   "execution_count": 43,
   "id": "aeb11285",
   "metadata": {},
   "outputs": [],
   "source": [
    "combined_df = pd.concat(scaled_data_frames.values(), keys=scaled_data_frames.keys())\n"
   ]
  },
  {
   "cell_type": "code",
   "execution_count": 44,
   "id": "cd8e64bf",
   "metadata": {},
   "outputs": [],
   "source": [
    "import pandas as pd\n",
    "combined_df['month'] = combined_df['timestamp'].dt.month\n",
    "combined_df['day'] = combined_df['timestamp'].dt.day\n",
    "combined_df['hour'] = combined_df['timestamp'].dt.hour"
   ]
  },
  {
   "cell_type": "code",
   "execution_count": 46,
   "id": "ac18ce75",
   "metadata": {},
   "outputs": [],
   "source": [
    "combined_df.to_csv(r'D:\\kul\\Modern Data Analytics\\2\\assignment\\data_pro\\data_map.csv', index=True)\n"
   ]
  }
 ],
 "metadata": {
  "kernelspec": {
   "display_name": "Python 3 (ipykernel)",
   "language": "python",
   "name": "python3"
  },
  "language_info": {
   "codemirror_mode": {
    "name": "ipython",
    "version": 3
   },
   "file_extension": ".py",
   "mimetype": "text/x-python",
   "name": "python",
   "nbconvert_exporter": "python",
   "pygments_lexer": "ipython3",
   "version": "3.10.4"
  },
  "toc": {
   "base_numbering": 1,
   "nav_menu": {},
   "number_sections": true,
   "sideBar": true,
   "skip_h1_title": false,
   "title_cell": "Table of Contents",
   "title_sidebar": "Contents",
   "toc_cell": false,
   "toc_position": {},
   "toc_section_display": true,
   "toc_window_display": false
  },
  "varInspector": {
   "cols": {
    "lenName": 16,
    "lenType": 16,
    "lenVar": 40
   },
   "kernels_config": {
    "python": {
     "delete_cmd_postfix": "",
     "delete_cmd_prefix": "del ",
     "library": "var_list.py",
     "varRefreshCmd": "print(var_dic_list())"
    },
    "r": {
     "delete_cmd_postfix": ") ",
     "delete_cmd_prefix": "rm(",
     "library": "var_list.r",
     "varRefreshCmd": "cat(var_dic_list()) "
    }
   },
   "types_to_exclude": [
    "module",
    "function",
    "builtin_function_or_method",
    "instance",
    "_Feature"
   ],
   "window_display": false
  }
 },
 "nbformat": 4,
 "nbformat_minor": 5
}
